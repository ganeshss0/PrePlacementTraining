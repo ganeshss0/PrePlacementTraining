{
 "cells": [
  {
   "attachments": {},
   "cell_type": "markdown",
   "metadata": {},
   "source": [
    "# Arrays Assignment 1"
   ]
  },
  {
   "attachments": {},
   "cell_type": "markdown",
   "metadata": {},
   "source": [
    "### Answer 1"
   ]
  },
  {
   "attachments": {},
   "cell_type": "markdown",
   "metadata": {},
   "source": [
    "Brute Force Method: Here two nested loops are running over the `nums` list, checks for every pair of number if their sum is equal to `target`, if their sum if equal to `target` then returning the index of those number."
   ]
  },
  {
   "cell_type": "code",
   "execution_count": 1,
   "metadata": {},
   "outputs": [
    {
     "name": "stdout",
     "output_type": "stream",
     "text": [
      "_________________________\n",
      "Input: [2, 7, 11, 15] || Target: 9\n",
      "Output: [0, 1]\n",
      "_________________________\n",
      "Input: [-1, 11, 10, 9] || Target: 8\n",
      "Output: [0, 3]\n",
      "_________________________\n",
      "Input: [5, 34, 1, 0] || Target: 34\n",
      "Output: [1, 3]\n",
      "_________________________\n",
      "Input: [1, 1, 1, 1] || Target: 2\n",
      "Output: [0, 1]\n",
      "_________________________\n",
      "Input: [4, 3, 2, 1] || Target: 5\n",
      "Output: [0, 3]\n",
      "_________________________\n",
      "Input: [1, 4] || Target: 5\n",
      "Output: [0, 1]\n"
     ]
    }
   ],
   "source": [
    "############ Solution #############\n",
    "\n",
    "def sum_of_nums(nums: list[int], target: int) -> list[int]:\n",
    "    '''Return a list of indexes of nums whose sum is equal to target.'''\n",
    "\n",
    "    for i in range(len(nums) - 1):\n",
    "        for j in range(i + 1, len(nums)):\n",
    "            if nums[i] + nums[j] == target:\n",
    "                return [i, j]\n",
    "\n",
    "\n",
    "############ testing #############\n",
    "\n",
    "test_cases = [\n",
    "    ([2, 7, 11, 15], 9),\n",
    "    ([-1, 11, 10, 9], 8),\n",
    "    ([5, 34, 1, 0], 34),\n",
    "    ([1, 1, 1, 1], 2),\n",
    "    ([4, 3, 2, 1], 5),\n",
    "    ([1,4], 5)\n",
    "]\n",
    "\n",
    "for test in test_cases:\n",
    "    print('_'*25)\n",
    "    print('Input:', test[0], '|| Target:', test[1])\n",
    "    print('Output:', sum_of_nums(test[0], test[1]))"
   ]
  },
  {
   "attachments": {},
   "cell_type": "markdown",
   "metadata": {},
   "source": [
    "### Answer 2"
   ]
  },
  {
   "attachments": {},
   "cell_type": "markdown",
   "metadata": {},
   "source": [
    "Here a single while loop is running over the `nums` list and a counter `i` store the number of value which are not equal to `val`."
   ]
  },
  {
   "cell_type": "code",
   "execution_count": 2,
   "metadata": {},
   "outputs": [
    {
     "name": "stdout",
     "output_type": "stream",
     "text": [
      "_________________________\n",
      "Input: [3, 2, 2, 3] || Val: 3\n",
      "Output: 2\n",
      "nums: [2, 2]\n",
      "_________________________\n",
      "Input: [1, 11, 2, 2, 3, 11, 0] || Val: 11\n",
      "Output: 5\n",
      "nums: [1, 2, 2, 3, 0]\n",
      "_________________________\n",
      "Input: [3, 2, 1, 1, 1, 1] || Val: 1\n",
      "Output: 2\n",
      "nums: [3, 2]\n",
      "_________________________\n",
      "Input: [1, 1, 1, 1] || Val: 0\n",
      "Output: 4\n",
      "nums: [1, 1, 1, 1]\n",
      "_________________________\n",
      "Input: [5, 3, 2, 1] || Val: 5\n",
      "Output: 3\n",
      "nums: [3, 2, 1]\n",
      "_________________________\n",
      "Input: [1, 1] || Val: 1\n",
      "Output: 0\n",
      "nums: []\n"
     ]
    }
   ],
   "source": [
    "############## Solution ###########\n",
    "def remove_numbers(nums: list[int], val: int) -> int:\n",
    "    '''Return the number of elements in list after removing all occurance of val.'''\n",
    "\n",
    "    i = 0\n",
    "    while i < len(nums):\n",
    "        if nums[i] == val:\n",
    "            nums.pop(i)\n",
    "        else:\n",
    "            i += 1\n",
    "    return i\n",
    "\n",
    "\n",
    "############ testing #############\n",
    "\n",
    "test_cases = [\n",
    "    ([3, 2, 2, 3], 3),\n",
    "    ([1, 11, 2, 2, 3, 11, 0], 11),\n",
    "    ([3, 2, 1, 1, 1, 1], 1),\n",
    "    ([1, 1, 1, 1], 0),\n",
    "    ([5, 3, 2, 1], 5),\n",
    "    ([1,1], 1)\n",
    "]\n",
    "\n",
    "for test in test_cases:\n",
    "    print('_'*25)\n",
    "    print('Input:', test[0], '|| Val:', test[1])\n",
    "    print('Output:', remove_numbers(test[0], test[1]))\n",
    "    print('nums:', test[0])"
   ]
  },
  {
   "attachments": {},
   "cell_type": "markdown",
   "metadata": {},
   "source": [
    "### Answer 3"
   ]
  },
  {
   "attachments": {},
   "cell_type": "markdown",
   "metadata": {},
   "source": [
    "The order of this program is __O(log(n))__ as here binary search algorithm is used, two index pointer `low` and `high` are intitialized with value `0` and `len(nums) - 1` and a middle position `(low + high) // 2` which is keep getting update in a while loop, if element at index mid-point equal to `target` then return mid-point, if it is greater then `target` then update the `high` as `mid-point - 1` or if it is less than `target` then update the `low` as `mid-point + 1`, inbetween keep updating `idx` if it is greater than `target`."
   ]
  },
  {
   "cell_type": "code",
   "execution_count": 3,
   "metadata": {},
   "outputs": [
    {
     "name": "stdout",
     "output_type": "stream",
     "text": [
      "_________________________\n",
      "Input: [1, 2, 3, 4] || Target: 3\n",
      "Output: 2\n",
      "_________________________\n",
      "Input: [1, 2, 3, 3] || Target: 0\n",
      "Output: 0\n",
      "_________________________\n",
      "Input: [1, 2, 3, 4] || Target: 5\n",
      "Output: 4\n",
      "_________________________\n",
      "Input: [] || Target: 0\n",
      "Output: 0\n",
      "_________________________\n",
      "Input: [4, 6] || Target: 5\n",
      "Output: 1\n",
      "_________________________\n",
      "Input: [1] || Target: 2\n",
      "Output: 1\n"
     ]
    }
   ],
   "source": [
    "############ Solution ############\n",
    "\n",
    "def insert_index(nums: list[int], target: int) -> int:\n",
    "    '''Return the index of target in nums, if target is not present then returns index where it shoud be inserted.'''\n",
    "\n",
    "    idx = len(nums)\n",
    "    low = 0\n",
    "    high = idx - 1\n",
    "\n",
    "    while low <= high:\n",
    "        # mid point\n",
    "        pos = (low + high) // 2\n",
    "\n",
    "        if nums[pos] == target:\n",
    "            return pos\n",
    "        elif nums[pos] < target:\n",
    "            low = pos + 1\n",
    "        elif nums[pos] > target:\n",
    "            high = pos - 1\n",
    "            idx = pos\n",
    "            \n",
    "    return idx\n",
    "\n",
    "############ testing #############\n",
    "\n",
    "test_cases = [\n",
    "    ([1, 2, 3, 4], 3),\n",
    "    ([1, 2, 3, 3], 0),\n",
    "    ([1, 2, 3, 4], 5),\n",
    "    ([], 0),\n",
    "    ([4, 6], 5),\n",
    "    ([1], 2)\n",
    "]\n",
    "\n",
    "for test in test_cases:\n",
    "    print('_'*25)\n",
    "    print('Input:', test[0], '|| Target:', test[1])\n",
    "    print('Output:', insert_index(test[0], test[1]))"
   ]
  },
  {
   "attachments": {},
   "cell_type": "markdown",
   "metadata": {},
   "source": [
    "### Answer 4"
   ]
  },
  {
   "attachments": {},
   "cell_type": "markdown",
   "metadata": {},
   "source": [
    "Here a simple for loop is running on `nums` list if `nums[~i]`(last digit) is not 9 then add 1 to it and return it, if not then update `nums[~i] = 0` as adding 1 to 9 in which 1 is put to carry and 0 is written in result, on exiting the loop means all digits are 9 then add 1 infront of it."
   ]
  },
  {
   "cell_type": "code",
   "execution_count": 4,
   "metadata": {},
   "outputs": [
    {
     "name": "stdout",
     "output_type": "stream",
     "text": [
      "_________________________\n",
      "Input: [9, 9, 9, 9]\n",
      "Output: [1, 0, 0, 0, 0]\n",
      "_________________________\n",
      "Input: [1, 3, 1, 0]\n",
      "Output: [1, 3, 1, 1]\n",
      "_________________________\n",
      "Input: [3, 2, 1, 1]\n",
      "Output: [3, 2, 1, 2]\n",
      "_________________________\n",
      "Input: [9]\n",
      "Output: [1, 0]\n",
      "_________________________\n",
      "Input: [1, 0, 1, 6]\n",
      "Output: [1, 0, 1, 7]\n",
      "_________________________\n",
      "Input: [0]\n",
      "Output: [1]\n"
     ]
    }
   ],
   "source": [
    "############ Solution ############\n",
    "\n",
    "def add_digits(nums: list[int]) -> list[int]:\n",
    "    '''Return a list of integers after adding one to the digit.'''\n",
    "\n",
    "    for i in range(len(nums)):\n",
    "        if nums[~i] != 9:\n",
    "            nums[~i]+= 1\n",
    "            return nums\n",
    "        nums[~i] = 0\n",
    "    \n",
    "    return [1] + nums\n",
    "\n",
    "############ testing #############\n",
    "\n",
    "test_cases = [\n",
    "    [9, 9, 9, 9],\n",
    "    [1, 3, 1, 0],\n",
    "    [3, 2, 1, 1],\n",
    "    [9],\n",
    "    [1, 0, 1, 6],\n",
    "    [0]\n",
    "]\n",
    "\n",
    "for test in test_cases:\n",
    "    print('_'*25)\n",
    "    print('Input:', test)\n",
    "    print('Output:', add_digits(test))"
   ]
  },
  {
   "attachments": {},
   "cell_type": "markdown",
   "metadata": {},
   "source": [
    "### Answer 5"
   ]
  },
  {
   "attachments": {},
   "cell_type": "markdown",
   "metadata": {},
   "source": [
    "It is a simple solution a while loop with two pointer `i` and `j` for each list and insert `nums2` element in `nums1` based on ascending order."
   ]
  },
  {
   "cell_type": "code",
   "execution_count": 5,
   "metadata": {},
   "outputs": [
    {
     "name": "stdout",
     "output_type": "stream",
     "text": [
      "_________________________\n",
      "Input: List1=[1, 2, 3, 0, 0, 0] || M=3 || List2=[2, 5, 6] || N=3\n",
      "nums: [1, 2, 2, 3, 5, 6]\n",
      "_________________________\n",
      "Input: List1=[2, 0] || M=1 || List2=[1] || N=1\n",
      "nums: [1, 2]\n",
      "_________________________\n",
      "Input: List1=[1] || M=1 || List2=[2] || N=1\n",
      "nums: [1, 2]\n",
      "_________________________\n",
      "Input: List1=[1] || M=0 || List2=[1, 2, 3] || N=3\n",
      "nums: [1, 2, 3]\n",
      "_________________________\n",
      "Input: List1=[] || M=0 || List2=[9] || N=1\n",
      "nums: [9]\n"
     ]
    }
   ],
   "source": [
    "############ Solution ############\n",
    "\n",
    "def merge_lists(nums1: list[int], m: int, nums2: list[int], n: int) -> None:\n",
    "\n",
    "    nums1[:] = nums1[:m]\n",
    "\n",
    "    if n == 0:\n",
    "        return\n",
    "    elif m == 0:\n",
    "        nums1[:] = nums2[:n]\n",
    "        return\n",
    "    \n",
    "    i = j = 0\n",
    "\n",
    "    while i < (m + j) and j < n:\n",
    "        if nums1[i] > nums2[j]:\n",
    "            nums1.insert(i, nums2[j])\n",
    "            j += 1\n",
    "        i += 1\n",
    "    if j < n:\n",
    "        nums1.extend(nums2[j:n])\n",
    "\n",
    "############ testing #############\n",
    "\n",
    "test_cases = [\n",
    "    ([1, 2, 3, 0, 0, 0], 3, [2, 5, 6], 3),\n",
    "    ([2, 0], 1, [1], 1),\n",
    "    ([1], 1, [2], 1),\n",
    "    ([1], 0, [1, 2, 3], 3),\n",
    "    ([], 0, [9], 1)\n",
    "]\n",
    "\n",
    "for test in test_cases:\n",
    "    print('_'*25)\n",
    "    print(f'Input: List1={test[0]} || M={test[1]} || List2={test[2]} || N={test[3]}')\n",
    "    merge_lists(test[0], test[1], test[2], test[3])\n",
    "    print('nums:', test[0])"
   ]
  },
  {
   "attachments": {},
   "cell_type": "markdown",
   "metadata": {},
   "source": [
    "### Answer 6"
   ]
  },
  {
   "attachments": {},
   "cell_type": "markdown",
   "metadata": {},
   "source": [
    "Here we can use python's set datatype, first converting the `nums` list into a set then checking the length of both set and `nums`, If length both are equal that means `nums` contains all unique elements, If not then `nums` contains duplicated elements."
   ]
  },
  {
   "cell_type": "code",
   "execution_count": 6,
   "metadata": {},
   "outputs": [
    {
     "name": "stdout",
     "output_type": "stream",
     "text": [
      "_________________________\n",
      "Input: [1, 2, 3, 1]\n",
      "Output: True\n",
      "_________________________\n",
      "Input: [2, 3, 1]\n",
      "Output: False\n",
      "_________________________\n",
      "Input: [1, 2, 3, 4]\n",
      "Output: False\n",
      "_________________________\n",
      "Input: [5, 3, 2, 1]\n",
      "Output: False\n",
      "_________________________\n",
      "Input: [1, 1]\n",
      "Output: True\n",
      "_________________________\n",
      "Input: []\n",
      "Output: False\n"
     ]
    }
   ],
   "source": [
    "############ Solution ############\n",
    "\n",
    "def only_once(nums: list[int]) -> bool:\n",
    "    '''Return False if all elements of nums are unique else False.'''\n",
    "\n",
    "    return not(len(set(nums)) == len(nums))\n",
    "\n",
    "############ testing #############\n",
    "\n",
    "test_cases = [\n",
    "    [1, 2, 3, 1],\n",
    "    [2, 3, 1],\n",
    "    [1, 2, 3, 4],\n",
    "    [5, 3, 2, 1],\n",
    "    [1,1],\n",
    "    []\n",
    "]\n",
    "\n",
    "for test in test_cases:\n",
    "    print('_'*25)\n",
    "    print('Input:', test)\n",
    "    print('Output:', only_once(test))"
   ]
  },
  {
   "attachments": {},
   "cell_type": "markdown",
   "metadata": {},
   "source": [
    "### Answer 7"
   ]
  },
  {
   "attachments": {},
   "cell_type": "markdown",
   "metadata": {},
   "source": [
    "Here first initialzing three variables `i` used for index in while loop, `n` for length of `nums` and `zeros` for storing the number of occurance of zero. Inside while loop checking for if element if zero or not, if it is then remove that element. Then at last extending the list with all zeros."
   ]
  },
  {
   "cell_type": "code",
   "execution_count": 7,
   "metadata": {},
   "outputs": [
    {
     "name": "stdout",
     "output_type": "stream",
     "text": [
      "_________________________\n",
      "Input: [0, 1, 0, 3, 12]\n",
      "nums: [1, 3, 12, 0, 0]\n",
      "_________________________\n",
      "Input: [1, 11, 0, 0, 11]\n",
      "nums: [1, 11, 11, 0, 0]\n",
      "_________________________\n",
      "Input: [3, 2, 1, 1, 0]\n",
      "nums: [3, 2, 1, 1, 0]\n",
      "_________________________\n",
      "Input: [0, 0, 0, 1]\n",
      "nums: [1, 0, 0, 0]\n",
      "_________________________\n",
      "Input: [1]\n",
      "nums: [1]\n",
      "_________________________\n",
      "Input: []\n",
      "nums: []\n"
     ]
    }
   ],
   "source": [
    "############ Solution ############\n",
    "\n",
    "def move_zero_2_end(nums: list[int]) -> None:\n",
    "    '''Moves all zeros in nums to end of list, keeps order of non-zero element unchanged.'''\n",
    "\n",
    "    i = zeros = 0\n",
    "    n = len(nums)\n",
    "\n",
    "    while i < n:\n",
    "        if nums[i] == 0:\n",
    "            nums.pop(i)\n",
    "            n -= 1\n",
    "            zeros += 1\n",
    "        else:\n",
    "            i += 1\n",
    "    else:\n",
    "        nums += [0] * zeros\n",
    "    \n",
    "############ testing #############\n",
    "\n",
    "test_cases = [\n",
    "    [0, 1, 0, 3, 12],\n",
    "    [1, 11, 0, 0, 11], \n",
    "    [3, 2, 1, 1, 0],\n",
    "    [0, 0, 0, 1],\n",
    "    [1],\n",
    "    []\n",
    "]\n",
    "\n",
    "for test in test_cases:\n",
    "    print('_'*25)\n",
    "    print('Input:', test)\n",
    "    move_zero_2_end(test)\n",
    "    print('nums:', test)"
   ]
  },
  {
   "attachments": {},
   "cell_type": "markdown",
   "metadata": {},
   "source": [
    "### Answer 8"
   ]
  },
  {
   "attachments": {},
   "cell_type": "markdown",
   "metadata": {},
   "source": [
    "Here a for loop is used for iterating over the `nums` for duplicate element if duplicated element is found then finding the missing number by using __duplicate + sum of natural number upto length of `nums` - sum of elements of `nums`__."
   ]
  },
  {
   "cell_type": "code",
   "execution_count": 8,
   "metadata": {},
   "outputs": [
    {
     "name": "stdout",
     "output_type": "stream",
     "text": [
      "_________________________\n",
      "Input: [1, 2, 2, 4]\n",
      "Output: [2, 3]\n",
      "_________________________\n",
      "Input: [2, 2]\n",
      "Output: [2, 1]\n",
      "_________________________\n",
      "Input: [1, 3, 3, 4]\n",
      "Output: [3, 2]\n",
      "_________________________\n",
      "Input: [5, 3, 2, 1, 1]\n",
      "Output: [1, 4]\n",
      "_________________________\n",
      "Input: [3, 3, 4, 1]\n",
      "Output: [3, 2]\n"
     ]
    }
   ],
   "source": [
    "############ Solution ############\n",
    "\n",
    "def find_duplicate_missing(nums: list[int]) -> list[int]:\n",
    "    '''Return a list of duplicated and missing number in nums.'''\n",
    "    Set = set()\n",
    "    n = len(nums)\n",
    "\n",
    "    for i in range(n):\n",
    "        if nums[i] in Set:\n",
    "            break\n",
    "        else:\n",
    "            Set.add(nums[i])\n",
    "\n",
    "    return [nums[i], nums[i] + (n * (n + 1)) // 2 - sum(nums)]\n",
    "\n",
    "############ testing #############\n",
    "\n",
    "test_cases = [\n",
    "    [1, 2, 2, 4],\n",
    "    [2, 2],\n",
    "    [1, 3, 3, 4],\n",
    "    [5, 3, 2, 1, 1],\n",
    "    [3, 3, 4, 1]\n",
    "]\n",
    "\n",
    "for test in test_cases:\n",
    "    print('_'*25)\n",
    "    print('Input:', test)\n",
    "    print('Output:', find_duplicate_missing(test))"
   ]
  }
 ],
 "metadata": {
  "kernelspec": {
   "display_name": "Python 3",
   "language": "python",
   "name": "python3"
  },
  "language_info": {
   "codemirror_mode": {
    "name": "ipython",
    "version": 3
   },
   "file_extension": ".py",
   "mimetype": "text/x-python",
   "name": "python",
   "nbconvert_exporter": "python",
   "pygments_lexer": "ipython3",
   "version": "3.10.2"
  },
  "orig_nbformat": 4,
  "vscode": {
   "interpreter": {
    "hash": "2469a70536e4d2335a2ea8907942d0699c37342a371ac185bdb5b0aa6f073890"
   }
  }
 },
 "nbformat": 4,
 "nbformat_minor": 2
}
